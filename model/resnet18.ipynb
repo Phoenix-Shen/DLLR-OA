{
 "cells": [
  {
   "cell_type": "code",
   "execution_count": 38,
   "metadata": {},
   "outputs": [],
   "source": [
    "\n",
    "import sys\n",
    "sys.path.insert(0,\"../\")\n",
    "from resnet18 import Residual\n",
    "import torch as t\n",
    "net = Residual(3,3,False,1)\n",
    "x = t.randn((1,3,24,24))\n",
    "\n",
    "y = net.forward(x)"
   ]
  },
  {
   "cell_type": "code",
   "execution_count": 39,
   "metadata": {},
   "outputs": [
    {
     "data": {
      "text/plain": [
       "(torch.Size([1, 3, 24, 24]), torch.Size([1, 3, 24, 24]))"
      ]
     },
     "execution_count": 39,
     "metadata": {},
     "output_type": "execute_result"
    }
   ],
   "source": [
    "x.shape,y.shape"
   ]
  },
  {
   "cell_type": "code",
   "execution_count": 40,
   "metadata": {},
   "outputs": [],
   "source": [
    "net = Residual(3,6,True,1)\n",
    "x = t.randn((1,3,24,24))\n",
    "\n",
    "y = net.forward(x)"
   ]
  },
  {
   "cell_type": "code",
   "execution_count": 41,
   "metadata": {},
   "outputs": [
    {
     "data": {
      "text/plain": [
       "(torch.Size([1, 3, 24, 24]), torch.Size([1, 6, 24, 24]))"
      ]
     },
     "execution_count": 41,
     "metadata": {},
     "output_type": "execute_result"
    }
   ],
   "source": [
    "x.shape,y.shape"
   ]
  },
  {
   "cell_type": "code",
   "execution_count": 48,
   "metadata": {},
   "outputs": [
    {
     "name": "stdout",
     "output_type": "stream",
     "text": [
      "Sequential output shape: \t torch.Size([1, 64, 56, 56])\n",
      "Sequential output shape: \t torch.Size([1, 64, 56, 56])\n",
      "Sequential output shape: \t torch.Size([1, 128, 28, 28])\n",
      "Sequential output shape: \t torch.Size([1, 256, 14, 14])\n",
      "Sequential output shape: \t torch.Size([1, 512, 7, 7])\n",
      "AdaptiveMaxPool2d output shape: \t torch.Size([1, 512, 1, 1])\n",
      "Flatten output shape: \t torch.Size([1, 512])\n",
      "Linear output shape: \t torch.Size([1, 10])\n"
     ]
    }
   ],
   "source": [
    "from resnet18 import Resnet18\n",
    "x = t.rand(size=(1, 1, 224, 224))\n",
    "net = Resnet18().net\n",
    "for layer in net:\n",
    "    x = layer(x)\n",
    "    print(layer.__class__.__name__,\"output shape: \\t\",x.shape)\n",
    "x.sum().backward()\n"
   ]
  },
  {
   "cell_type": "code",
   "execution_count": 43,
   "metadata": {},
   "outputs": [
    {
     "name": "stdout",
     "output_type": "stream",
     "text": [
      "0.0.weight\n",
      "0.0.bias\n",
      "0.1.weight\n",
      "0.1.bias\n",
      "0.1.running_mean\n",
      "0.1.running_var\n",
      "0.1.num_batches_tracked\n",
      "1.0.features.0.weight\n",
      "1.0.features.0.bias\n",
      "1.0.features.1.weight\n",
      "1.0.features.1.bias\n",
      "1.0.features.1.running_mean\n",
      "1.0.features.1.running_var\n",
      "1.0.features.1.num_batches_tracked\n",
      "1.0.features.3.weight\n",
      "1.0.features.3.bias\n",
      "1.0.features.4.weight\n",
      "1.0.features.4.bias\n",
      "1.0.features.4.running_mean\n",
      "1.0.features.4.running_var\n",
      "1.0.features.4.num_batches_tracked\n",
      "1.1.features.0.weight\n",
      "1.1.features.0.bias\n",
      "1.1.features.1.weight\n",
      "1.1.features.1.bias\n",
      "1.1.features.1.running_mean\n",
      "1.1.features.1.running_var\n",
      "1.1.features.1.num_batches_tracked\n",
      "1.1.features.3.weight\n",
      "1.1.features.3.bias\n",
      "1.1.features.4.weight\n",
      "1.1.features.4.bias\n",
      "1.1.features.4.running_mean\n",
      "1.1.features.4.running_var\n",
      "1.1.features.4.num_batches_tracked\n",
      "2.0.features.0.weight\n",
      "2.0.features.0.bias\n",
      "2.0.features.1.weight\n",
      "2.0.features.1.bias\n",
      "2.0.features.1.running_mean\n",
      "2.0.features.1.running_var\n",
      "2.0.features.1.num_batches_tracked\n",
      "2.0.features.3.weight\n",
      "2.0.features.3.bias\n",
      "2.0.features.4.weight\n",
      "2.0.features.4.bias\n",
      "2.0.features.4.running_mean\n",
      "2.0.features.4.running_var\n",
      "2.0.features.4.num_batches_tracked\n",
      "2.0.adj_conv.weight\n",
      "2.0.adj_conv.bias\n",
      "2.1.features.0.weight\n",
      "2.1.features.0.bias\n",
      "2.1.features.1.weight\n",
      "2.1.features.1.bias\n",
      "2.1.features.1.running_mean\n",
      "2.1.features.1.running_var\n",
      "2.1.features.1.num_batches_tracked\n",
      "2.1.features.3.weight\n",
      "2.1.features.3.bias\n",
      "2.1.features.4.weight\n",
      "2.1.features.4.bias\n",
      "2.1.features.4.running_mean\n",
      "2.1.features.4.running_var\n",
      "2.1.features.4.num_batches_tracked\n",
      "3.0.features.0.weight\n",
      "3.0.features.0.bias\n",
      "3.0.features.1.weight\n",
      "3.0.features.1.bias\n",
      "3.0.features.1.running_mean\n",
      "3.0.features.1.running_var\n",
      "3.0.features.1.num_batches_tracked\n",
      "3.0.features.3.weight\n",
      "3.0.features.3.bias\n",
      "3.0.features.4.weight\n",
      "3.0.features.4.bias\n",
      "3.0.features.4.running_mean\n",
      "3.0.features.4.running_var\n",
      "3.0.features.4.num_batches_tracked\n",
      "3.0.adj_conv.weight\n",
      "3.0.adj_conv.bias\n",
      "3.1.features.0.weight\n",
      "3.1.features.0.bias\n",
      "3.1.features.1.weight\n",
      "3.1.features.1.bias\n",
      "3.1.features.1.running_mean\n",
      "3.1.features.1.running_var\n",
      "3.1.features.1.num_batches_tracked\n",
      "3.1.features.3.weight\n",
      "3.1.features.3.bias\n",
      "3.1.features.4.weight\n",
      "3.1.features.4.bias\n",
      "3.1.features.4.running_mean\n",
      "3.1.features.4.running_var\n",
      "3.1.features.4.num_batches_tracked\n",
      "4.0.features.0.weight\n",
      "4.0.features.0.bias\n",
      "4.0.features.1.weight\n",
      "4.0.features.1.bias\n",
      "4.0.features.1.running_mean\n",
      "4.0.features.1.running_var\n",
      "4.0.features.1.num_batches_tracked\n",
      "4.0.features.3.weight\n",
      "4.0.features.3.bias\n",
      "4.0.features.4.weight\n",
      "4.0.features.4.bias\n",
      "4.0.features.4.running_mean\n",
      "4.0.features.4.running_var\n",
      "4.0.features.4.num_batches_tracked\n",
      "4.0.adj_conv.weight\n",
      "4.0.adj_conv.bias\n",
      "4.1.features.0.weight\n",
      "4.1.features.0.bias\n",
      "4.1.features.1.weight\n",
      "4.1.features.1.bias\n",
      "4.1.features.1.running_mean\n",
      "4.1.features.1.running_var\n",
      "4.1.features.1.num_batches_tracked\n",
      "4.1.features.3.weight\n",
      "4.1.features.3.bias\n",
      "4.1.features.4.weight\n",
      "4.1.features.4.bias\n",
      "4.1.features.4.running_mean\n",
      "4.1.features.4.running_var\n",
      "4.1.features.4.num_batches_tracked\n",
      "7.weight\n",
      "7.bias\n"
     ]
    }
   ],
   "source": [
    "for key in net.state_dict():\n",
    "    print(key)"
   ]
  },
  {
   "cell_type": "code",
   "execution_count": 52,
   "metadata": {},
   "outputs": [
    {
     "data": {
      "text/plain": [
       "[('4.0.features.1.weight', tensor(22.6274)),\n",
       " ('4.0.features.4.weight', tensor(22.6274)),\n",
       " ('4.1.features.1.weight', tensor(22.6274)),\n",
       " ('4.1.features.4.weight', tensor(22.6274)),\n",
       " ('3.0.features.1.weight', tensor(16.)),\n",
       " ('3.0.features.4.weight', tensor(16.)),\n",
       " ('3.1.features.1.weight', tensor(16.)),\n",
       " ('3.1.features.4.weight', tensor(16.)),\n",
       " ('4.0.adj_conv.weight', tensor(13.0752)),\n",
       " ('4.0.features.3.weight', tensor(13.0669)),\n",
       " ('4.1.features.3.weight', tensor(13.0637)),\n",
       " ('4.0.features.0.weight', tensor(13.0611)),\n",
       " ('4.1.features.0.weight', tensor(13.0598)),\n",
       " ('2.0.features.1.weight', tensor(11.3137)),\n",
       " ('2.0.features.4.weight', tensor(11.3137)),\n",
       " ('2.1.features.1.weight', tensor(11.3137)),\n",
       " ('2.1.features.4.weight', tensor(11.3137)),\n",
       " ('3.1.features.3.weight', tensor(9.2407)),\n",
       " ('3.1.features.0.weight', tensor(9.2404)),\n",
       " ('3.0.features.3.weight', tensor(9.2333)),\n",
       " ('3.0.features.0.weight', tensor(9.2328)),\n",
       " ('3.0.adj_conv.weight', tensor(9.2267)),\n",
       " ('0.1.weight', tensor(8.)),\n",
       " ('1.0.features.1.weight', tensor(8.)),\n",
       " ('1.0.features.4.weight', tensor(8.)),\n",
       " ('1.1.features.1.weight', tensor(8.)),\n",
       " ('1.1.features.4.weight', tensor(8.)),\n",
       " ('2.0.features.0.weight', tensor(6.5401)),\n",
       " ('2.0.features.3.weight', tensor(6.5358)),\n",
       " ('2.1.features.0.weight', tensor(6.5315)),\n",
       " ('2.1.features.3.weight', tensor(6.5264)),\n",
       " ('2.0.adj_conv.weight', tensor(6.5075)),\n",
       " ('0.0.weight', tensor(4.6770)),\n",
       " ('1.0.features.3.weight', tensor(4.6253)),\n",
       " ('1.1.features.0.weight', tensor(4.6213)),\n",
       " ('1.0.features.0.weight', tensor(4.6191)),\n",
       " ('1.1.features.3.weight', tensor(4.6099)),\n",
       " ('7.weight', tensor(1.8381))]"
      ]
     },
     "execution_count": 52,
     "metadata": {},
     "output_type": "execute_result"
    }
   ],
   "source": [
    "import torch as t\n",
    "weight_norm = {}\n",
    "with t.no_grad():\n",
    "    for name, param in net.named_parameters():\n",
    "        \n",
    "        if \"weight\" in name:\n",
    "            weight_norm[name] = t.norm(param)\n",
    "weight_norm = sorted(weight_norm.items(),key=lambda x: x[1],reverse=True)\n",
    "weight_norm"
   ]
  },
  {
   "cell_type": "code",
   "execution_count": 56,
   "metadata": {},
   "outputs": [
    {
     "data": {
      "text/plain": [
       "['1.0.features.0.weight',\n",
       " '1.0.features.3.weight',\n",
       " '2.0.features.3.weight',\n",
       " '3.0.features.3.weight',\n",
       " '2.1.features.0.weight',\n",
       " '1.1.features.0.weight',\n",
       " '2.0.features.0.weight',\n",
       " '4.0.features.3.weight',\n",
       " '3.0.features.0.weight',\n",
       " '3.1.features.0.weight',\n",
       " '2.1.features.3.weight',\n",
       " '4.0.features.0.weight',\n",
       " '1.1.features.3.weight',\n",
       " '3.1.features.3.weight',\n",
       " '0.0.weight',\n",
       " '4.1.features.0.weight',\n",
       " '7.weight',\n",
       " '4.1.features.3.weight',\n",
       " '2.0.adj_conv.weight',\n",
       " '3.0.adj_conv.weight',\n",
       " '4.0.adj_conv.weight',\n",
       " '0.1.weight',\n",
       " '1.0.features.1.weight',\n",
       " '1.1.features.1.weight',\n",
       " '1.0.features.4.weight',\n",
       " '1.1.features.4.weight',\n",
       " '2.0.features.1.weight',\n",
       " '2.0.features.4.weight',\n",
       " '2.1.features.1.weight',\n",
       " '3.0.features.1.weight',\n",
       " '2.1.features.4.weight',\n",
       " '3.0.features.4.weight',\n",
       " '4.0.features.4.weight',\n",
       " '4.1.features.4.weight',\n",
       " '4.0.features.1.weight',\n",
       " '3.1.features.1.weight',\n",
       " '3.1.features.4.weight',\n",
       " '4.1.features.1.weight']"
      ]
     },
     "execution_count": 56,
     "metadata": {},
     "output_type": "execute_result"
    }
   ],
   "source": [
    "grad_norm = {}\n",
    "for name, param in net.named_parameters():\n",
    "    if \"weight\" in name:\n",
    "        if param.grad is None:\n",
    "            print(name,\"--None\")\n",
    "        else:\n",
    "            grad_norm[name] = t.norm(param.grad)\n",
    "\n",
    "grad_norm = sorted(grad_norm.items(), key=lambda x: x[1], reverse=True)\n",
    "\n",
    "l =[a[0] for a in grad_norm]\n",
    "l"
   ]
  },
  {
   "cell_type": "code",
   "execution_count": 23,
   "metadata": {},
   "outputs": [
    {
     "data": {
      "text/plain": [
       "Sequential(\n",
       "  (0): Sequential(\n",
       "    (0): Conv2d(1, 64, kernel_size=(7, 7), stride=(2, 2), padding=(3, 3))\n",
       "    (1): BatchNorm2d(64, eps=1e-05, momentum=0.1, affine=True, track_running_stats=True)\n",
       "    (2): ReLU()\n",
       "    (3): MaxPool2d(kernel_size=3, stride=2, padding=1, dilation=1, ceil_mode=False)\n",
       "  )\n",
       "  (1): Sequential(\n",
       "    (0): Residual(\n",
       "      (features): Sequential(\n",
       "        (0): Conv2d(64, 64, kernel_size=(3, 3), stride=(1, 1), padding=(1, 1))\n",
       "        (1): BatchNorm2d(64, eps=1e-05, momentum=0.1, affine=True, track_running_stats=True)\n",
       "        (2): ReLU()\n",
       "        (3): Conv2d(64, 64, kernel_size=(3, 3), stride=(1, 1), padding=(1, 1))\n",
       "        (4): BatchNorm2d(64, eps=1e-05, momentum=0.1, affine=True, track_running_stats=True)\n",
       "      )\n",
       "    )\n",
       "    (1): Residual(\n",
       "      (features): Sequential(\n",
       "        (0): Conv2d(64, 64, kernel_size=(3, 3), stride=(1, 1), padding=(1, 1))\n",
       "        (1): BatchNorm2d(64, eps=1e-05, momentum=0.1, affine=True, track_running_stats=True)\n",
       "        (2): ReLU()\n",
       "        (3): Conv2d(64, 64, kernel_size=(3, 3), stride=(1, 1), padding=(1, 1))\n",
       "        (4): BatchNorm2d(64, eps=1e-05, momentum=0.1, affine=True, track_running_stats=True)\n",
       "      )\n",
       "    )\n",
       "  )\n",
       "  (2): Sequential(\n",
       "    (0): Residual(\n",
       "      (features): Sequential(\n",
       "        (0): Conv2d(64, 128, kernel_size=(3, 3), stride=(2, 2), padding=(1, 1))\n",
       "        (1): BatchNorm2d(128, eps=1e-05, momentum=0.1, affine=True, track_running_stats=True)\n",
       "        (2): ReLU()\n",
       "        (3): Conv2d(128, 128, kernel_size=(3, 3), stride=(1, 1), padding=(1, 1))\n",
       "        (4): BatchNorm2d(128, eps=1e-05, momentum=0.1, affine=True, track_running_stats=True)\n",
       "      )\n",
       "      (adj_conv): Conv2d(64, 128, kernel_size=(1, 1), stride=(2, 2))\n",
       "    )\n",
       "    (1): Residual(\n",
       "      (features): Sequential(\n",
       "        (0): Conv2d(128, 128, kernel_size=(3, 3), stride=(1, 1), padding=(1, 1))\n",
       "        (1): BatchNorm2d(128, eps=1e-05, momentum=0.1, affine=True, track_running_stats=True)\n",
       "        (2): ReLU()\n",
       "        (3): Conv2d(128, 128, kernel_size=(3, 3), stride=(1, 1), padding=(1, 1))\n",
       "        (4): BatchNorm2d(128, eps=1e-05, momentum=0.1, affine=True, track_running_stats=True)\n",
       "      )\n",
       "    )\n",
       "  )\n",
       "  (3): Sequential(\n",
       "    (0): Residual(\n",
       "      (features): Sequential(\n",
       "        (0): Conv2d(128, 256, kernel_size=(3, 3), stride=(2, 2), padding=(1, 1))\n",
       "        (1): BatchNorm2d(256, eps=1e-05, momentum=0.1, affine=True, track_running_stats=True)\n",
       "        (2): ReLU()\n",
       "        (3): Conv2d(256, 256, kernel_size=(3, 3), stride=(1, 1), padding=(1, 1))\n",
       "        (4): BatchNorm2d(256, eps=1e-05, momentum=0.1, affine=True, track_running_stats=True)\n",
       "      )\n",
       "      (adj_conv): Conv2d(128, 256, kernel_size=(1, 1), stride=(2, 2))\n",
       "    )\n",
       "    (1): Residual(\n",
       "      (features): Sequential(\n",
       "        (0): Conv2d(256, 256, kernel_size=(3, 3), stride=(1, 1), padding=(1, 1))\n",
       "        (1): BatchNorm2d(256, eps=1e-05, momentum=0.1, affine=True, track_running_stats=True)\n",
       "        (2): ReLU()\n",
       "        (3): Conv2d(256, 256, kernel_size=(3, 3), stride=(1, 1), padding=(1, 1))\n",
       "        (4): BatchNorm2d(256, eps=1e-05, momentum=0.1, affine=True, track_running_stats=True)\n",
       "      )\n",
       "    )\n",
       "  )\n",
       "  (4): Sequential(\n",
       "    (0): Residual(\n",
       "      (features): Sequential(\n",
       "        (0): Conv2d(256, 512, kernel_size=(3, 3), stride=(2, 2), padding=(1, 1))\n",
       "        (1): BatchNorm2d(512, eps=1e-05, momentum=0.1, affine=True, track_running_stats=True)\n",
       "        (2): ReLU()\n",
       "        (3): Conv2d(512, 512, kernel_size=(3, 3), stride=(1, 1), padding=(1, 1))\n",
       "        (4): BatchNorm2d(512, eps=1e-05, momentum=0.1, affine=True, track_running_stats=True)\n",
       "      )\n",
       "      (adj_conv): Conv2d(256, 512, kernel_size=(1, 1), stride=(2, 2))\n",
       "    )\n",
       "    (1): Residual(\n",
       "      (features): Sequential(\n",
       "        (0): Conv2d(512, 512, kernel_size=(3, 3), stride=(1, 1), padding=(1, 1))\n",
       "        (1): BatchNorm2d(512, eps=1e-05, momentum=0.1, affine=True, track_running_stats=True)\n",
       "        (2): ReLU()\n",
       "        (3): Conv2d(512, 512, kernel_size=(3, 3), stride=(1, 1), padding=(1, 1))\n",
       "        (4): BatchNorm2d(512, eps=1e-05, momentum=0.1, affine=True, track_running_stats=True)\n",
       "      )\n",
       "    )\n",
       "  )\n",
       "  (5): AdaptiveMaxPool2d(output_size=(1, 1))\n",
       "  (6): Flatten(start_dim=1, end_dim=-1)\n",
       "  (7): Linear(in_features=512, out_features=10, bias=True)\n",
       ")"
      ]
     },
     "execution_count": 23,
     "metadata": {},
     "output_type": "execute_result"
    }
   ],
   "source": [
    "net"
   ]
  },
  {
   "cell_type": "code",
   "execution_count": 7,
   "metadata": {},
   "outputs": [],
   "source": [
    "def train_model():\n",
    "    pass\n",
    "    # have not implemented yet"
   ]
  },
  {
   "cell_type": "code",
   "execution_count": 8,
   "metadata": {},
   "outputs": [
    {
     "data": {
      "text/plain": [
       "127"
      ]
     },
     "execution_count": 8,
     "metadata": {},
     "output_type": "execute_result"
    }
   ],
   "source": [
    "len(net.state_dict().keys())"
   ]
  },
  {
   "cell_type": "code",
   "execution_count": 25,
   "metadata": {},
   "outputs": [
    {
     "name": "stdout",
     "output_type": "stream",
     "text": [
      "Tue Dec 13 17:05:29 2022       \n",
      "+-----------------------------------------------------------------------------+\n",
      "| NVIDIA-SMI 527.56       Driver Version: 527.56       CUDA Version: 12.0     |\n",
      "|-------------------------------+----------------------+----------------------+\n",
      "| GPU  Name            TCC/WDDM | Bus-Id        Disp.A | Volatile Uncorr. ECC |\n",
      "| Fan  Temp  Perf  Pwr:Usage/Cap|         Memory-Usage | GPU-Util  Compute M. |\n",
      "|                               |                      |               MIG M. |\n",
      "|===============================+======================+======================|\n",
      "|   0  NVIDIA GeForce ... WDDM  | 00000000:01:00.0  On |                  N/A |\n",
      "| 30%   34C    P8    22W / 200W |   1441MiB /  8192MiB |     36%      Default |\n",
      "|                               |                      |                  N/A |\n",
      "+-------------------------------+----------------------+----------------------+\n",
      "                                                                               \n",
      "+-----------------------------------------------------------------------------+\n",
      "| Processes:                                                                  |\n",
      "|  GPU   GI   CI        PID   Type   Process name                  GPU Memory |\n",
      "|        ID   ID                                                   Usage      |\n",
      "|=============================================================================|\n",
      "|    0   N/A  N/A       916    C+G   ...perience\\NVIDIA Share.exe    N/A      |\n",
      "|    0   N/A  N/A      1896    C+G   ...artMenuExperienceHost.exe    N/A      |\n",
      "|    0   N/A  N/A      2308    C+G   ...n1h2txyewy\\SearchHost.exe    N/A      |\n",
      "|    0   N/A  N/A      5168    C+G   ...icrosoft VS Code\\Code.exe    N/A      |\n",
      "|    0   N/A  N/A      7028      C   ...3\\envs\\pytorch\\python.exe    N/A      |\n",
      "|    0   N/A  N/A      7920    C+G   ...oftware\\zotero\\zotero.exe    N/A      |\n",
      "|    0   N/A  N/A     11704    C+G   ...2txyewy\\TextInputHost.exe    N/A      |\n",
      "|    0   N/A  N/A     12524    C+G   ...perience\\NVIDIA Share.exe    N/A      |\n",
      "|    0   N/A  N/A     14636    C+G   ...d\\runtime\\WeChatAppEx.exe    N/A      |\n",
      "|    0   N/A  N/A     15576    C+G   ...tracted\\WechatBrowser.exe    N/A      |\n",
      "|    0   N/A  N/A     17796    C+G   ...6YXSAPEQCFR43DA\\DeepL.exe    N/A      |\n",
      "|    0   N/A  N/A     19524    C+G   ...lPanel\\SystemSettings.exe    N/A      |\n",
      "|    0   N/A  N/A     20068    C+G   ...cw5n1h2txyewy\\LockApp.exe    N/A      |\n",
      "|    0   N/A  N/A     20264    C+G   ...h8wxbdkxb8p\\DCv2\\DCv2.exe    N/A      |\n",
      "|    0   N/A  N/A     21156    C+G   ...ray\\lghub_system_tray.exe    N/A      |\n",
      "|    0   N/A  N/A     21772    C+G   ...ge\\Application\\msedge.exe    N/A      |\n",
      "|    0   N/A  N/A     24944    C+G   C:\\Windows\\explorer.exe         N/A      |\n",
      "|    0   N/A  N/A     25264    C+G   ...y\\ShellExperienceHost.exe    N/A      |\n",
      "|    0   N/A  N/A     28292    C+G   ...tware\\qqmusic\\QQMusic.exe    N/A      |\n",
      "+-----------------------------------------------------------------------------+\n"
     ]
    }
   ],
   "source": [
    "!nvidia-smi"
   ]
  },
  {
   "cell_type": "code",
   "execution_count": 26,
   "metadata": {},
   "outputs": [],
   "source": [
    "net =net.cuda()\n",
    "tensortensor = t.randn((256,3,256,256)).cuda()"
   ]
  },
  {
   "cell_type": "code",
   "execution_count": 27,
   "metadata": {},
   "outputs": [
    {
     "name": "stdout",
     "output_type": "stream",
     "text": [
      "Tue Dec 13 17:05:30 2022       \n",
      "+-----------------------------------------------------------------------------+\n",
      "| NVIDIA-SMI 527.56       Driver Version: 527.56       CUDA Version: 12.0     |\n",
      "|-------------------------------+----------------------+----------------------+\n",
      "| GPU  Name            TCC/WDDM | Bus-Id        Disp.A | Volatile Uncorr. ECC |\n",
      "| Fan  Temp  Perf  Pwr:Usage/Cap|         Memory-Usage | GPU-Util  Compute M. |\n",
      "|                               |                      |               MIG M. |\n",
      "|===============================+======================+======================|\n",
      "|   0  NVIDIA GeForce ... WDDM  | 00000000:01:00.0  On |                  N/A |\n",
      "| 30%   36C    P2    28W / 200W |   1706MiB /  8192MiB |     15%      Default |\n",
      "|                               |                      |                  N/A |\n",
      "+-------------------------------+----------------------+----------------------+\n",
      "                                                                               \n",
      "+-----------------------------------------------------------------------------+\n",
      "| Processes:                                                                  |\n",
      "|  GPU   GI   CI        PID   Type   Process name                  GPU Memory |\n",
      "|        ID   ID                                                   Usage      |\n",
      "|=============================================================================|\n",
      "|    0   N/A  N/A       916    C+G   ...perience\\NVIDIA Share.exe    N/A      |\n",
      "|    0   N/A  N/A      1896    C+G   ...artMenuExperienceHost.exe    N/A      |\n",
      "|    0   N/A  N/A      2308    C+G   ...n1h2txyewy\\SearchHost.exe    N/A      |\n",
      "|    0   N/A  N/A      5168    C+G   ...icrosoft VS Code\\Code.exe    N/A      |\n",
      "|    0   N/A  N/A      7028      C   ...3\\envs\\pytorch\\python.exe    N/A      |\n",
      "|    0   N/A  N/A      7920    C+G   ...oftware\\zotero\\zotero.exe    N/A      |\n",
      "|    0   N/A  N/A     11704    C+G   ...2txyewy\\TextInputHost.exe    N/A      |\n",
      "|    0   N/A  N/A     12524    C+G   ...perience\\NVIDIA Share.exe    N/A      |\n",
      "|    0   N/A  N/A     14636    C+G   ...d\\runtime\\WeChatAppEx.exe    N/A      |\n",
      "|    0   N/A  N/A     15576    C+G   ...tracted\\WechatBrowser.exe    N/A      |\n",
      "|    0   N/A  N/A     17796    C+G   ...6YXSAPEQCFR43DA\\DeepL.exe    N/A      |\n",
      "|    0   N/A  N/A     19524    C+G   ...lPanel\\SystemSettings.exe    N/A      |\n",
      "|    0   N/A  N/A     20068    C+G   ...cw5n1h2txyewy\\LockApp.exe    N/A      |\n",
      "|    0   N/A  N/A     20264    C+G   ...h8wxbdkxb8p\\DCv2\\DCv2.exe    N/A      |\n",
      "|    0   N/A  N/A     21156    C+G   ...ray\\lghub_system_tray.exe    N/A      |\n",
      "|    0   N/A  N/A     21772    C+G   ...ge\\Application\\msedge.exe    N/A      |\n",
      "|    0   N/A  N/A     24944    C+G   C:\\Windows\\explorer.exe         N/A      |\n",
      "|    0   N/A  N/A     25264    C+G   ...y\\ShellExperienceHost.exe    N/A      |\n",
      "|    0   N/A  N/A     28292    C+G   ...tware\\qqmusic\\QQMusic.exe    N/A      |\n",
      "+-----------------------------------------------------------------------------+\n"
     ]
    }
   ],
   "source": [
    "!nvidia-smi"
   ]
  },
  {
   "cell_type": "code",
   "execution_count": 28,
   "metadata": {},
   "outputs": [],
   "source": [
    "net = net.cpu()\n",
    "tensortensor =tensortensor.cpu()"
   ]
  },
  {
   "cell_type": "code",
   "execution_count": 29,
   "metadata": {},
   "outputs": [
    {
     "name": "stdout",
     "output_type": "stream",
     "text": [
      "Tue Dec 13 17:05:30 2022       \n",
      "+-----------------------------------------------------------------------------+\n",
      "| NVIDIA-SMI 527.56       Driver Version: 527.56       CUDA Version: 12.0     |\n",
      "|-------------------------------+----------------------+----------------------+\n",
      "| GPU  Name            TCC/WDDM | Bus-Id        Disp.A | Volatile Uncorr. ECC |\n",
      "| Fan  Temp  Perf  Pwr:Usage/Cap|         Memory-Usage | GPU-Util  Compute M. |\n",
      "|                               |                      |               MIG M. |\n",
      "|===============================+======================+======================|\n",
      "|   0  NVIDIA GeForce ... WDDM  | 00000000:01:00.0  On |                  N/A |\n",
      "| 30%   36C    P2    34W / 200W |   1706MiB /  8192MiB |     12%      Default |\n",
      "|                               |                      |                  N/A |\n",
      "+-------------------------------+----------------------+----------------------+\n",
      "                                                                               \n",
      "+-----------------------------------------------------------------------------+\n",
      "| Processes:                                                                  |\n",
      "|  GPU   GI   CI        PID   Type   Process name                  GPU Memory |\n",
      "|        ID   ID                                                   Usage      |\n",
      "|=============================================================================|\n",
      "|    0   N/A  N/A       916    C+G   ...perience\\NVIDIA Share.exe    N/A      |\n",
      "|    0   N/A  N/A      1896    C+G   ...artMenuExperienceHost.exe    N/A      |\n",
      "|    0   N/A  N/A      2308    C+G   ...n1h2txyewy\\SearchHost.exe    N/A      |\n",
      "|    0   N/A  N/A      5168    C+G   ...icrosoft VS Code\\Code.exe    N/A      |\n",
      "|    0   N/A  N/A      7028      C   ...3\\envs\\pytorch\\python.exe    N/A      |\n",
      "|    0   N/A  N/A      7920    C+G   ...oftware\\zotero\\zotero.exe    N/A      |\n",
      "|    0   N/A  N/A     11704    C+G   ...2txyewy\\TextInputHost.exe    N/A      |\n",
      "|    0   N/A  N/A     12524    C+G   ...perience\\NVIDIA Share.exe    N/A      |\n",
      "|    0   N/A  N/A     14636    C+G   ...d\\runtime\\WeChatAppEx.exe    N/A      |\n",
      "|    0   N/A  N/A     15576    C+G   ...tracted\\WechatBrowser.exe    N/A      |\n",
      "|    0   N/A  N/A     17796    C+G   ...6YXSAPEQCFR43DA\\DeepL.exe    N/A      |\n",
      "|    0   N/A  N/A     19524    C+G   ...lPanel\\SystemSettings.exe    N/A      |\n",
      "|    0   N/A  N/A     20068    C+G   ...cw5n1h2txyewy\\LockApp.exe    N/A      |\n",
      "|    0   N/A  N/A     20264    C+G   ...h8wxbdkxb8p\\DCv2\\DCv2.exe    N/A      |\n",
      "|    0   N/A  N/A     21156    C+G   ...ray\\lghub_system_tray.exe    N/A      |\n",
      "|    0   N/A  N/A     21772    C+G   ...ge\\Application\\msedge.exe    N/A      |\n",
      "|    0   N/A  N/A     24944    C+G   C:\\Windows\\explorer.exe         N/A      |\n",
      "|    0   N/A  N/A     25264    C+G   ...y\\ShellExperienceHost.exe    N/A      |\n",
      "|    0   N/A  N/A     28292    C+G   ...tware\\qqmusic\\QQMusic.exe    N/A      |\n",
      "+-----------------------------------------------------------------------------+\n"
     ]
    }
   ],
   "source": [
    "!nvidia-smi"
   ]
  },
  {
   "cell_type": "code",
   "execution_count": 30,
   "metadata": {},
   "outputs": [],
   "source": [
    "t.cuda.empty_cache()"
   ]
  },
  {
   "cell_type": "code",
   "execution_count": 31,
   "metadata": {},
   "outputs": [
    {
     "name": "stdout",
     "output_type": "stream",
     "text": [
      "Tue Dec 13 17:05:30 2022       \n",
      "+-----------------------------------------------------------------------------+\n",
      "| NVIDIA-SMI 527.56       Driver Version: 527.56       CUDA Version: 12.0     |\n",
      "|-------------------------------+----------------------+----------------------+\n",
      "| GPU  Name            TCC/WDDM | Bus-Id        Disp.A | Volatile Uncorr. ECC |\n",
      "| Fan  Temp  Perf  Pwr:Usage/Cap|         Memory-Usage | GPU-Util  Compute M. |\n",
      "|                               |                      |               MIG M. |\n",
      "|===============================+======================+======================|\n",
      "|   0  NVIDIA GeForce ... WDDM  | 00000000:01:00.0  On |                  N/A |\n",
      "| 30%   36C    P2    38W / 200W |   1450MiB /  8192MiB |      4%      Default |\n",
      "|                               |                      |                  N/A |\n",
      "+-------------------------------+----------------------+----------------------+\n",
      "                                                                               \n",
      "+-----------------------------------------------------------------------------+\n",
      "| Processes:                                                                  |\n",
      "|  GPU   GI   CI        PID   Type   Process name                  GPU Memory |\n",
      "|        ID   ID                                                   Usage      |\n",
      "|=============================================================================|\n",
      "|    0   N/A  N/A       916    C+G   ...perience\\NVIDIA Share.exe    N/A      |\n",
      "|    0   N/A  N/A      1896    C+G   ...artMenuExperienceHost.exe    N/A      |\n",
      "|    0   N/A  N/A      2308    C+G   ...n1h2txyewy\\SearchHost.exe    N/A      |\n",
      "|    0   N/A  N/A      5168    C+G   ...icrosoft VS Code\\Code.exe    N/A      |\n",
      "|    0   N/A  N/A      7028      C   ...3\\envs\\pytorch\\python.exe    N/A      |\n",
      "|    0   N/A  N/A      7920    C+G   ...oftware\\zotero\\zotero.exe    N/A      |\n",
      "|    0   N/A  N/A     11704    C+G   ...2txyewy\\TextInputHost.exe    N/A      |\n",
      "|    0   N/A  N/A     12524    C+G   ...perience\\NVIDIA Share.exe    N/A      |\n",
      "|    0   N/A  N/A     14636    C+G   ...d\\runtime\\WeChatAppEx.exe    N/A      |\n",
      "|    0   N/A  N/A     15576    C+G   ...tracted\\WechatBrowser.exe    N/A      |\n",
      "|    0   N/A  N/A     17796    C+G   ...6YXSAPEQCFR43DA\\DeepL.exe    N/A      |\n",
      "|    0   N/A  N/A     19524    C+G   ...lPanel\\SystemSettings.exe    N/A      |\n",
      "|    0   N/A  N/A     20068    C+G   ...cw5n1h2txyewy\\LockApp.exe    N/A      |\n",
      "|    0   N/A  N/A     20264    C+G   ...h8wxbdkxb8p\\DCv2\\DCv2.exe    N/A      |\n",
      "|    0   N/A  N/A     21156    C+G   ...ray\\lghub_system_tray.exe    N/A      |\n",
      "|    0   N/A  N/A     21772    C+G   ...ge\\Application\\msedge.exe    N/A      |\n",
      "|    0   N/A  N/A     24944    C+G   C:\\Windows\\explorer.exe         N/A      |\n",
      "|    0   N/A  N/A     25264    C+G   ...y\\ShellExperienceHost.exe    N/A      |\n",
      "|    0   N/A  N/A     28292    C+G   ...tware\\qqmusic\\QQMusic.exe    N/A      |\n",
      "+-----------------------------------------------------------------------------+\n"
     ]
    }
   ],
   "source": [
    "!nvidia-smi"
   ]
  },
  {
   "cell_type": "code",
   "execution_count": 32,
   "metadata": {},
   "outputs": [
    {
     "data": {
      "text/plain": [
       "42.67204284667969"
      ]
     },
     "execution_count": 32,
     "metadata": {},
     "output_type": "execute_result"
    }
   ],
   "source": [
    "from utils import get_model_size\n",
    "get_model_size(net)"
   ]
  },
  {
   "cell_type": "code",
   "execution_count": null,
   "metadata": {},
   "outputs": [],
   "source": []
  }
 ],
 "metadata": {
  "kernelspec": {
   "display_name": "pytorch",
   "language": "python",
   "name": "python3"
  },
  "language_info": {
   "codemirror_mode": {
    "name": "ipython",
    "version": 3
   },
   "file_extension": ".py",
   "mimetype": "text/x-python",
   "name": "python",
   "nbconvert_exporter": "python",
   "pygments_lexer": "ipython3",
   "version": "3.9.15 (main, Nov 24 2022, 14:39:17) [MSC v.1916 64 bit (AMD64)]"
  },
  "orig_nbformat": 4,
  "vscode": {
   "interpreter": {
    "hash": "3de46a193a0b9e5b3bc67286d0c342e53305376cf8bea956d6cd171e456c1d38"
   }
  }
 },
 "nbformat": 4,
 "nbformat_minor": 2
}

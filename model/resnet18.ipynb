{
 "cells": [
  {
   "cell_type": "code",
   "execution_count": 1,
   "metadata": {},
   "outputs": [],
   "source": [
    "\n",
    "import sys\n",
    "sys.path.insert(0,\"../\")\n",
    "from resnet18 import Residual\n",
    "import torch as t\n",
    "net = Residual(3,3,False,1)\n",
    "x = t.randn((1,3,24,24))\n",
    "\n",
    "y = net.forward(x)"
   ]
  },
  {
   "cell_type": "code",
   "execution_count": 2,
   "metadata": {},
   "outputs": [
    {
     "data": {
      "text/plain": [
       "(torch.Size([1, 3, 24, 24]), torch.Size([1, 3, 24, 24]))"
      ]
     },
     "execution_count": 2,
     "metadata": {},
     "output_type": "execute_result"
    }
   ],
   "source": [
    "x.shape,y.shape"
   ]
  },
  {
   "cell_type": "code",
   "execution_count": 3,
   "metadata": {},
   "outputs": [],
   "source": [
    "net = Residual(3,6,True,1)\n",
    "x = t.randn((1,3,24,24))\n",
    "\n",
    "y = net.forward(x)"
   ]
  },
  {
   "cell_type": "code",
   "execution_count": 4,
   "metadata": {},
   "outputs": [
    {
     "data": {
      "text/plain": [
       "(torch.Size([1, 3, 24, 24]), torch.Size([1, 6, 24, 24]))"
      ]
     },
     "execution_count": 4,
     "metadata": {},
     "output_type": "execute_result"
    }
   ],
   "source": [
    "x.shape,y.shape"
   ]
  },
  {
   "cell_type": "code",
   "execution_count": 5,
   "metadata": {},
   "outputs": [
    {
     "name": "stdout",
     "output_type": "stream",
     "text": [
      "Sequential output shape: \t torch.Size([1, 64, 56, 56])\n",
      "Sequential output shape: \t torch.Size([1, 64, 56, 56])\n",
      "Sequential output shape: \t torch.Size([1, 128, 28, 28])\n",
      "Sequential output shape: \t torch.Size([1, 256, 14, 14])\n",
      "Sequential output shape: \t torch.Size([1, 512, 7, 7])\n",
      "AdaptiveMaxPool2d output shape: \t torch.Size([1, 512, 1, 1])\n",
      "Flatten output shape: \t torch.Size([1, 512])\n",
      "Linear output shape: \t torch.Size([1, 10])\n"
     ]
    }
   ],
   "source": [
    "from resnet18 import Resnet18\n",
    "x = t.rand(size=(1, 1, 224, 224))\n",
    "net = Resnet18().net\n",
    "for layer in net:\n",
    "    x = layer(x)\n",
    "    print(layer.__class__.__name__,\"output shape: \\t\",x.shape)\n"
   ]
  },
  {
   "cell_type": "code",
   "execution_count": 6,
   "metadata": {},
   "outputs": [],
   "source": [
    "def train_model():\n",
    "    pass\n",
    "    # have not implemented yet"
   ]
  },
  {
   "cell_type": "code",
   "execution_count": 9,
   "metadata": {},
   "outputs": [
    {
     "data": {
      "text/plain": [
       "127"
      ]
     },
     "execution_count": 9,
     "metadata": {},
     "output_type": "execute_result"
    }
   ],
   "source": [
    "len(net.state_dict().keys())"
   ]
  },
  {
   "cell_type": "code",
   "execution_count": null,
   "metadata": {},
   "outputs": [],
   "source": []
  }
 ],
 "metadata": {
  "kernelspec": {
   "display_name": "pytorch",
   "language": "python",
   "name": "python3"
  },
  "language_info": {
   "codemirror_mode": {
    "name": "ipython",
    "version": 3
   },
   "file_extension": ".py",
   "mimetype": "text/x-python",
   "name": "python",
   "nbconvert_exporter": "python",
   "pygments_lexer": "ipython3",
   "version": "3.9.15"
  },
  "orig_nbformat": 4,
  "vscode": {
   "interpreter": {
    "hash": "3de46a193a0b9e5b3bc67286d0c342e53305376cf8bea956d6cd171e456c1d38"
   }
  }
 },
 "nbformat": 4,
 "nbformat_minor": 2
}

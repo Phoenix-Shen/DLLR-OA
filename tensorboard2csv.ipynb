{
 "cells": [
  {
   "cell_type": "code",
   "execution_count": 3,
   "metadata": {},
   "outputs": [],
   "source": [
    "import os\n",
    "import glob\n",
    "import pandas as pd\n",
    "from tensorboard.backend.event_processing.event_accumulator import EventAccumulator"
   ]
  },
  {
   "cell_type": "code",
   "execution_count": 4,
   "metadata": {},
   "outputs": [],
   "source": [
    "PATH_CIFAR10 = \"logs/CIFAR10\"\n",
    "PATH_MNIST = \"logs/MNIST\"\n"
   ]
  },
  {
   "cell_type": "code",
   "execution_count": 17,
   "metadata": {},
   "outputs": [],
   "source": [
    "def tabulate_events(dpath):\n",
    "    summary_iterators = [EventAccumulator(os.path.join(dpath, dname)).Reload()  for dname in os.listdir(dpath) if dname.find(\"events.out.tfevents\")==0]\n",
    "\n",
    "    tags = summary_iterators[0].Tags()['scalars']\n",
    "\n",
    "    for it in summary_iterators:\n",
    "        assert it.Tags()['scalars'] == tags\n",
    "\n",
    "    out = pd.DataFrame()\n",
    "\n",
    "    for tag in tags:\n",
    "        steps = []\n",
    "        values = []\n",
    "\n",
    "        for events in zip(*[acc.Scalars(tag) for acc in summary_iterators]):\n",
    "            assert len(set(e.step for e in events)) == 1\n",
    "\n",
    "            steps.append(events[0].step)\n",
    "            values.append([e.value for e in events])\n",
    "\n",
    "        out = pd.concat([out, pd.DataFrame(data=values, index=steps, columns=[tag])], axis=1)\n",
    "\n",
    "    return out\n",
    "\n"
   ]
  },
  {
   "cell_type": "code",
   "execution_count": 21,
   "metadata": {},
   "outputs": [],
   "source": [
    "tabs = tabulate_events(os.path.join(\"logs/CIFAR10\",\"10\"))"
   ]
  },
  {
   "cell_type": "code",
   "execution_count": 26,
   "metadata": {},
   "outputs": [],
   "source": [
    "for i in range(1,36):\n",
    "    tabs = tabulate_events(os.path.join(PATH_CIFAR10,str(i)))\n",
    "    tabs.to_csv(os.path.join(PATH_CIFAR10,str(i)+\".csv\"))"
   ]
  },
  {
   "cell_type": "code",
   "execution_count": 27,
   "metadata": {},
   "outputs": [],
   "source": [
    "for i in range(1,36):\n",
    "    tabs = tabulate_events(os.path.join(PATH_MNIST,str(i)))\n",
    "    tabs.to_csv(os.path.join(PATH_MNIST,str(i)+\".csv\"))"
   ]
  }
 ],
 "metadata": {
  "kernelspec": {
   "display_name": "pytorch",
   "language": "python",
   "name": "python3"
  },
  "language_info": {
   "codemirror_mode": {
    "name": "ipython",
    "version": 3
   },
   "file_extension": ".py",
   "mimetype": "text/x-python",
   "name": "python",
   "nbconvert_exporter": "python",
   "pygments_lexer": "ipython3",
   "version": "3.9.15"
  },
  "orig_nbformat": 4,
  "vscode": {
   "interpreter": {
    "hash": "4dbc9917bcaa9a9fa434c727723b90f93ecc3435121eacd019fcd02c268a833c"
   }
  }
 },
 "nbformat": 4,
 "nbformat_minor": 2
}
